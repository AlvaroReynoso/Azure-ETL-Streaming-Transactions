{
 "cells": [
  {
   "cell_type": "markdown",
   "metadata": {
    "application/vnd.databricks.v1+cell": {
     "cellMetadata": {},
     "inputWidgets": {},
     "nuid": "e4719fe5-d26f-48eb-b861-6a71303d248a",
     "showTitle": false,
     "tableResultSettingsMap": {},
     "title": ""
    }
   },
   "source": [
    "## Try-except en cada parte para manejo de errores"
   ]
  },
  {
   "cell_type": "code",
   "execution_count": 0,
   "metadata": {
    "application/vnd.databricks.v1+cell": {
     "cellMetadata": {
      "byteLimit": 2048000,
      "rowLimit": 10000
     },
     "inputWidgets": {},
     "nuid": "89680ed7-058f-4ccc-819b-45efd4f5addd",
     "showTitle": true,
     "tableResultSettingsMap": {},
     "title": "# Load Parameters from Secret Scope"
    }
   },
   "outputs": [],
   "source": [
    "# DBTITLE 1: Carga de parámetros desde secret scope\n",
    "try:\n",
    "  event_hub_conn_str = dbutils.secrets.get(scope=\"scopeTransaction\", key=\"keyTransaction\")\n",
    "  bronze_path = \"abfss://bronzesmartbank@mistorageprincipal.dfs.core.windows.net/transactions_eventhub/\"\n",
    "\n",
    "  dbutils.secrets.list(\"scopeTransaction\")\n",
    "#\n",
    "  storage_account_name = \"mistorageprincipal\"\n",
    "  storage_account_key = dbutils.secrets.get(\"scopeTransaction\", \"keyTransaction\")\n",
    "\n",
    "  spark.conf.set(\n",
    "    f\"fs.azure.account.key.{storage_account_name}.dfs.core.windows.net\",\n",
    "    storage_account_key\n",
    "  )\n",
    "except Exception as e:\n",
    "    dbutils.notebook.exit(f\"[ERROR - BRONZE INIT] {str(e)}\")\n"
   ]
  },
  {
   "cell_type": "code",
   "execution_count": 0,
   "metadata": {
    "application/vnd.databricks.v1+cell": {
     "cellMetadata": {
      "byteLimit": 2048000,
      "rowLimit": 10000
     },
     "inputWidgets": {},
     "nuid": "21f2d096-7628-4859-aaf2-b1b67becd457",
     "showTitle": false,
     "tableResultSettingsMap": {},
     "title": ""
    }
   },
   "outputs": [],
   "source": [
    "dbutils.fs.ls(bronze_path)"
   ]
  },
  {
   "cell_type": "code",
   "execution_count": 0,
   "metadata": {
    "application/vnd.databricks.v1+cell": {
     "cellMetadata": {
      "byteLimit": 2048000,
      "rowLimit": 10000
     },
     "inputWidgets": {},
     "nuid": "2a8915d7-5309-439d-b6cd-57536e1f28a6",
     "showTitle": false,
     "tableResultSettingsMap": {},
     "title": ""
    }
   },
   "outputs": [],
   "source": [
    "# DBTITLE 1: Crear catálogo y esquema (si no existen)\n",
    "\n",
    "# spark.sql(\"CREATE SCHEMA IF NOT EXISTS bronze_transactions.tables\")\n",
    "# spark.sql(\n",
    "#         CREATE TABLE IF NOT EXISTS capa_bronze.tables.{name} AS\n",
    "#         SELECT * FROM {name}\n",
    "# \"\"\")\n",
    "\n"
   ]
  },
  {
   "cell_type": "code",
   "execution_count": 0,
   "metadata": {
    "application/vnd.databricks.v1+cell": {
     "cellMetadata": {
      "byteLimit": 2048000,
      "rowLimit": 10000
     },
     "inputWidgets": {},
     "nuid": "8d6fc385-93c7-4237-90ab-85ddaa11f45f",
     "showTitle": true,
     "tableResultSettingsMap": {},
     "title": "# Set Azure Storage Account Configuration"
    }
   },
   "outputs": [],
   "source": []
  },
  {
   "cell_type": "code",
   "execution_count": 0,
   "metadata": {
    "application/vnd.databricks.v1+cell": {
     "cellMetadata": {
      "byteLimit": 2048000,
      "rowLimit": 10000
     },
     "inputWidgets": {},
     "nuid": "885d5930-1f9c-4cb5-854e-2311a8cd85bf",
     "showTitle": true,
     "tableResultSettingsMap": {},
     "title": "# Transaction Data Ingestion to Bronze Layer"
    }
   },
   "outputs": [],
   "source": [
    "# DBTITLE 1: Configuración inicial\n",
    "from pyspark.sql.types import StructType, StringType, DoubleType\n",
    "from pyspark.sql.functions import col\n",
    "\n",
    "\n",
    "try:\n",
    "# Leer secret del container de destino (si usás conexión segura, opcional)\n",
    "    dbutils.secrets.get(scope=\"scopeTransaction\", key=\"keyTransaction\")\n",
    "\n",
    "# Ruta de origen y destino  \n",
    "    source_path = \"abfss://rawsmartbank@mistorageprincipal.dfs.core.windows.net/transacciones/\"\n",
    "\n",
    "# Esquema de las transacciones\n",
    "    transaction_schema = StructType() \\\n",
    "        .add(\"transaction_id\", StringType()) \\\n",
    "        .add(\"customer_id\", StringType()) \\\n",
    "        .add(\"amount\", DoubleType()) \\\n",
    "        .add(\"timestamp\", StringType()) \\\n",
    "        .add(\"merchant\", StringType()) \\\n",
    "        .add(\"country\", StringType()) \\\n",
    "        .add(\"channel\", StringType()) \\\n",
    "        .add(\"category\", StringType())\n",
    "\n",
    "# Lectura con Autoloader desde el contenedor RAW\n",
    "    raw_df = (\n",
    "        spark.readStream\n",
    "        .format(\"cloudFiles\")\n",
    "        .option(\"cloudFiles.format\", \"json\")\n",
    "        .schema(transaction_schema)\n",
    "        .load(source_path)\n",
    "    )\n",
    "\n",
    "# Escritura en capa Bronze con Delta Lake\n",
    "    (\n",
    "        raw_df.writeStream\n",
    "        .format(\"delta\")\n",
    "        .outputMode(\"append\")\n",
    "        .option(\"checkpointLocation\", bronze_path + \"/_checkpoint\")\n",
    "        .trigger(once=True)\n",
    "        .start(bronze_path)\n",
    "        .awaitTermination()\n",
    "    )\n",
    "\n",
    "except Exception as e:\n",
    "    dbutils.notebook.exit(f\"[ERROR - BRONZE WRITE] {str(e)}\")\n",
    "\n",
    "dbutils.notebook.exit(\"OK\") \n"
   ]
  }
 ],
 "metadata": {
  "application/vnd.databricks.v1+notebook": {
   "computePreferences": null,
   "dashboards": [],
   "environmentMetadata": {
    "base_environment": "",
    "environment_version": "2"
   },
   "inputWidgetPreferences": null,
   "language": "python",
   "notebookMetadata": {
    "pythonIndentUnit": 4
   },
   "notebookName": "bronzeTransactions",
   "widgets": {}
  },
  "language_info": {
   "name": "python"
  }
 },
 "nbformat": 4,
 "nbformat_minor": 0
}
