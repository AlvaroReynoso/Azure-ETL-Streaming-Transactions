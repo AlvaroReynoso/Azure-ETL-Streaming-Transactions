{
 "cells": [
  {
   "cell_type": "markdown",
   "metadata": {
    "application/vnd.databricks.v1+cell": {
     "cellMetadata": {},
     "inputWidgets": {},
     "nuid": "0377928b-60e1-4e40-afc6-c49b41e5c2e6",
     "showTitle": false,
     "tableResultSettingsMap": {},
     "title": ""
    }
   },
   "source": [
    "\n",
    "---\n",
    "\n",
    "## 📊 KPIs calculados\n",
    "\n",
    "| KPI | Descripción |\n",
    "|-----|-------------|\n",
    "| `total_transactions` | Total de transacciones en la combinación país + canal |\n",
    "| `total_amount` | Suma total del dinero transaccionado |\n",
    "| `avg_amount` | Monto promedio por transacción |\n",
    "| `fraud_rate_percent` | Porcentaje de transacciones sospechosas (flag) |\n",
    "| `high_value_ratio_percent` | Porcentaje de transacciones mayores a $10,000 (nivel `high`) |\n",
    "\n",
    "Estas métricas permiten monitorear:\n",
    "- Comportamiento por país y canal\n",
    "- Anomalías por fraude\n",
    "- Proporción de operaciones de alto valor\n",
    "\n",
    "---\n",
    "\n",
    "## 🧊 Destino final\n",
    "\n",
    "Los datos se almacenan como tabla Delta gestionada\n",
    "\n"
   ]
  },
  {
   "cell_type": "code",
   "execution_count": 0,
   "metadata": {
    "application/vnd.databricks.v1+cell": {
     "cellMetadata": {
      "byteLimit": 2048000,
      "rowLimit": 10000
     },
     "inputWidgets": {},
     "nuid": "83ab4f0f-00cb-4799-88e1-85f5f88a5567",
     "showTitle": false,
     "tableResultSettingsMap": {},
     "title": ""
    }
   },
   "outputs": [],
   "source": [
    "# DBTITLE 1: Imports y configuración\n",
    "from pyspark.sql.functions import col, count, avg, sum, when, lit, round\n",
    "\n",
    "\n",
    "# Activar catálogo\n",
    "try:\n",
    "    spark.sql(f\"USE CATALOG gold_transactions\")\n",
    "    spark.sql(f\"CREATE SCHEMA IF NOT EXISTS gold\")\n",
    "    spark.sql(f\"USE silver_transactions.silver\")\n",
    "\n",
    "except Exception as e:\n",
    "    dbutils.notebook.exit(f\"[ERROR - GOLD INIT CATALOG AND SCHEMA] {str(e)}\")\n"
   ]
  },
  {
   "cell_type": "code",
   "execution_count": 0,
   "metadata": {
    "application/vnd.databricks.v1+cell": {
     "cellMetadata": {
      "byteLimit": 2048000,
      "rowLimit": 10000
     },
     "inputWidgets": {},
     "nuid": "3728bb47-e1b2-4a72-99ee-ead7587d9a77",
     "showTitle": false,
     "tableResultSettingsMap": {},
     "title": ""
    }
   },
   "outputs": [],
   "source": [
    "try:\n",
    "    storage_account_name = \"mistorageprincipal\"\n",
    "    storage_account_key = dbutils.secrets.get(\"scopeTransaction\", \"keyTransaction\")\n",
    "\n",
    "    spark.conf.set(\n",
    "        f\"fs.azure.account.key.{storage_account_name}.dfs.core.windows.net\",\n",
    "        storage_account_key\n",
    "    )\n",
    "except Exception as e:\n",
    "    dbutils.notebook.exit(f\"[ERROR - GOLD INIT CONFIG] {str(e)}\")\n"
   ]
  },
  {
   "cell_type": "code",
   "execution_count": 0,
   "metadata": {
    "application/vnd.databricks.v1+cell": {
     "cellMetadata": {
      "byteLimit": 2048000,
      "rowLimit": 10000
     },
     "inputWidgets": {},
     "nuid": "d9a135d8-ee42-4570-bd83-eb05d5265f75",
     "showTitle": false,
     "tableResultSettingsMap": {},
     "title": ""
    }
   },
   "outputs": [],
   "source": [
    "try:\n",
    "    spark.sql(\"\"\"\n",
    "        CREATE OR REPLACE TABLE gold_transactions.gold.transactions_general\n",
    "        USING DELTA\n",
    "        AS SELECT * FROM silver_transactions.silver.silver_transactions_table\n",
    "    \"\"\")\n",
    "except Exception as e:\n",
    "    dbutils.notebook.exit(f\"[ERROR - GOLD TRANSACTIONS GENERAL CREATE TABLE] {str(e)}\")\n"
   ]
  },
  {
   "cell_type": "code",
   "execution_count": 0,
   "metadata": {
    "application/vnd.databricks.v1+cell": {
     "cellMetadata": {
      "byteLimit": 2048000,
      "rowLimit": 10000
     },
     "inputWidgets": {},
     "nuid": "79eb37fe-5da8-4e12-b32a-ad2d1fad254f",
     "showTitle": false,
     "tableResultSettingsMap": {},
     "title": ""
    }
   },
   "outputs": [],
   "source": [
    "spark.sql(\n",
    "    \"\"\"\n",
    "    SELECT * FROM gold_transactions.gold.transactions_general\n",
    "    \"\"\"\n",
    ").display()"
   ]
  },
  {
   "cell_type": "code",
   "execution_count": 0,
   "metadata": {
    "application/vnd.databricks.v1+cell": {
     "cellMetadata": {
      "byteLimit": 2048000,
      "rowLimit": 10000
     },
     "inputWidgets": {},
     "nuid": "a065bb0e-bdd3-4242-8d7f-2c90edf0acfa",
     "showTitle": false,
     "tableResultSettingsMap": {},
     "title": ""
    }
   },
   "outputs": [],
   "source": [
    "try: \n",
    "    gold_total_transactions = spark.sql(\"\"\"\n",
    "        CREATE OR REPLACE TEMP VIEW gold_total_transactions AS\n",
    "        SELECT \n",
    "            country,\n",
    "            channel,\n",
    "            COUNT(*) AS total_transactions\n",
    "        FROM gold_transactions.gold.transactions_general\n",
    "        GROUP BY country, channel\n",
    "    \"\"\")\n",
    "except Exception as e:\n",
    "    dbutils.notebook.exit(f\"[ERROR - GOLD TOTAL TRANSACTIONS TEMP VIEW] {str(e)}\")\n",
    "\n"
   ]
  },
  {
   "cell_type": "code",
   "execution_count": 0,
   "metadata": {
    "application/vnd.databricks.v1+cell": {
     "cellMetadata": {
      "byteLimit": 2048000,
      "rowLimit": 10000
     },
     "inputWidgets": {},
     "nuid": "d6488a93-ae1a-4110-b30c-ff39b047217c",
     "showTitle": false,
     "tableResultSettingsMap": {},
     "title": ""
    }
   },
   "outputs": [],
   "source": [
    "spark.sql(\n",
    "    \"\"\"\n",
    "        select * from gold_total_transactions\n",
    "    \"\"\"\n",
    ").display()"
   ]
  },
  {
   "cell_type": "code",
   "execution_count": 0,
   "metadata": {
    "application/vnd.databricks.v1+cell": {
     "cellMetadata": {
      "byteLimit": 2048000,
      "rowLimit": 10000
     },
     "inputWidgets": {},
     "nuid": "95fabcb8-ca07-419e-a58f-9c4e7c0f3ab1",
     "showTitle": false,
     "tableResultSettingsMap": {},
     "title": ""
    }
   },
   "outputs": [],
   "source": [
    "try:\n",
    "    spark.sql(\n",
    "    \"\"\"\n",
    "        CREATE OR REPLACE TABLE gold_transactions.gold.total_transactions\n",
    "        USING DELTA\n",
    "        AS SELECT * FROM gold_total_transactions\n",
    "    \"\"\"\n",
    "    )\n",
    "except Exception as e:\n",
    "    dbutils.notebook.exit(f\"[ERROR - GOLD TOTAL TRANSACTIONS CREATE TABLE] {str(e)}\")"
   ]
  },
  {
   "cell_type": "code",
   "execution_count": 0,
   "metadata": {
    "application/vnd.databricks.v1+cell": {
     "cellMetadata": {
      "byteLimit": 2048000,
      "rowLimit": 10000
     },
     "inputWidgets": {},
     "nuid": "ce976a17-1009-4174-9ad8-4d481c37eda1",
     "showTitle": false,
     "tableResultSettingsMap": {},
     "title": ""
    }
   },
   "outputs": [],
   "source": [
    "spark.sql(\n",
    "    \"\"\"\n",
    "        select * from gold_transactions.gold.total_transactions\n",
    "    \"\"\"\n",
    ").display()"
   ]
  },
  {
   "cell_type": "code",
   "execution_count": 0,
   "metadata": {
    "application/vnd.databricks.v1+cell": {
     "cellMetadata": {
      "byteLimit": 2048000,
      "rowLimit": 10000
     },
     "inputWidgets": {},
     "nuid": "93d5665f-90a7-4072-9b4d-f706a0e54160",
     "showTitle": false,
     "tableResultSettingsMap": {},
     "title": ""
    }
   },
   "outputs": [],
   "source": [
    "try:\n",
    "    spark.sql(\"\"\"\n",
    "        CREATE OR REPLACE TEMP VIEW gold_amounts AS\n",
    "        SELECT \n",
    "            country,\n",
    "                channel,\n",
    "            SUM(amount) AS total_amount,\n",
    "            AVG(amount) AS avg_amount\n",
    "        FROM gold_transactions.gold.transactions_general\n",
    "        GROUP BY country, channel\n",
    "    \"\"\")\n",
    "except Exception as e:\n",
    "    dbutils.notebook.exit(f\"[ERROR - GOLD AMOUNTS TEMP VIEW] {str(e)}\")\n"
   ]
  },
  {
   "cell_type": "code",
   "execution_count": 0,
   "metadata": {
    "application/vnd.databricks.v1+cell": {
     "cellMetadata": {
      "byteLimit": 2048000,
      "rowLimit": 10000
     },
     "inputWidgets": {},
     "nuid": "4aad75e8-a94d-4b50-bb46-0ceffcad5166",
     "showTitle": false,
     "tableResultSettingsMap": {},
     "title": ""
    }
   },
   "outputs": [],
   "source": [
    "spark.sql(\n",
    "    \"\"\"\n",
    "    select * from gold_amounts\n",
    "    \"\"\"\n",
    ").display()"
   ]
  },
  {
   "cell_type": "code",
   "execution_count": 0,
   "metadata": {
    "application/vnd.databricks.v1+cell": {
     "cellMetadata": {
      "byteLimit": 2048000,
      "rowLimit": 10000
     },
     "inputWidgets": {},
     "nuid": "ea1b33f0-d4f4-41f3-88b9-9ca45da70e9c",
     "showTitle": true,
     "tableResultSettingsMap": {},
     "title": "ta - Create Gold Transactions Amounts Table"
    }
   },
   "outputs": [],
   "source": [
    "try:\n",
    "    spark.sql(\n",
    "        \"\"\"\n",
    "        CREATE OR REPLACE TABLE gold_transactions.gold.amounts \n",
    "        USING DELTA\n",
    "        SELECT * FROM gold_amounts\n",
    "        \"\"\"\n",
    "    )\n",
    "except Exception as e:\n",
    "    dbutils.notebook.exit(f\"[ERROR - GOLD AMOUNTS CREATE TABLE] {str(e)}\")\n"
   ]
  },
  {
   "cell_type": "code",
   "execution_count": 0,
   "metadata": {
    "application/vnd.databricks.v1+cell": {
     "cellMetadata": {
      "byteLimit": 2048000,
      "rowLimit": 10000
     },
     "inputWidgets": {},
     "nuid": "1d659131-15f0-495f-938a-07a18bb10cf0",
     "showTitle": true,
     "tableResultSettingsMap": {},
     "title": "Create Temp View for Fraud Rate by Country and Channel"
    }
   },
   "outputs": [],
   "source": [
    "try:\n",
    "    spark.sql(\"\"\"\n",
    "        CREATE OR REPLACE TEMP VIEW gold_fraud_rate AS\n",
    "        SELECT \n",
    "            country,\n",
    "            channel,\n",
    "            ROUND(\n",
    "                (SUM(CASE WHEN is_fraud_suspected = true THEN 1 ELSE 0 END) * 100.0) / COUNT(*), 2\n",
    "            ) AS fraud_rate_percent\n",
    "        FROM gold_transactions.gold.transactions_general\n",
    "        GROUP BY country, channel\n",
    "    \"\"\")\n",
    "except Exception as e:\n",
    "    dbutils.notebook.exit(f\"[ERROR - GOLD FRAUD RATE TEMP VIEW] {str(e)}\")\n"
   ]
  },
  {
   "cell_type": "code",
   "execution_count": 0,
   "metadata": {
    "application/vnd.databricks.v1+cell": {
     "cellMetadata": {
      "byteLimit": 2048000,
      "rowLimit": 10000
     },
     "inputWidgets": {},
     "nuid": "e40b519c-abee-4217-bf11-b8c67b9f7195",
     "showTitle": true,
     "tableResultSettingsMap": {},
     "title": "select all data from gold_fraud_rate table"
    }
   },
   "outputs": [],
   "source": [
    "spark.sql(\n",
    "    \"\"\"\n",
    "    select * from gold_fraud_rate\n",
    "    \"\"\"\n",
    ").display()"
   ]
  },
  {
   "cell_type": "code",
   "execution_count": 0,
   "metadata": {
    "application/vnd.databricks.v1+cell": {
     "cellMetadata": {
      "byteLimit": 2048000,
      "rowLimit": 10000
     },
     "inputWidgets": {},
     "nuid": "9a2c08e6-d794-4ade-9d9f-431f0465c0ae",
     "showTitle": false,
     "tableResultSettingsMap": {},
     "title": ""
    }
   },
   "outputs": [],
   "source": [
    "try:\n",
    "    spark.sql(\n",
    "    \"\"\"\n",
    "    CREATE OR REPLACE TABLE gold_transactions.gold.fraud_rate \n",
    "    USING DELTA\n",
    "    SELECT * FROM gold_fraud_rate\n",
    "    \"\"\"\n",
    ")\n",
    "except Exception as e:\n",
    "    dbutils.notebook.exit(f\"[ERROR - GOLD FRAUD RATE CREATE TABLE] {str(e)}\")"
   ]
  },
  {
   "cell_type": "code",
   "execution_count": 0,
   "metadata": {
    "application/vnd.databricks.v1+cell": {
     "cellMetadata": {
      "byteLimit": 2048000,
      "rowLimit": 10000
     },
     "inputWidgets": {},
     "nuid": "8b929330-9a85-4827-8bf5-c6fd2df25950",
     "showTitle": false,
     "tableResultSettingsMap": {},
     "title": ""
    }
   },
   "outputs": [],
   "source": [
    "try:\n",
    "    spark.sql(\"\"\"\n",
    "        CREATE OR REPLACE TEMP VIEW gold_high_value_ratio AS\n",
    "        SELECT \n",
    "            country,\n",
    "            channel,\n",
    "            ROUND(\n",
    "                (SUM(CASE WHEN amount_level = 'high' THEN 1 ELSE 0 END) * 100.0) / COUNT(*), 2\n",
    "            ) AS high_value_ratio_percent\n",
    "        FROM gold_transactions.gold.transactions_general\n",
    "        GROUP BY country, channel\n",
    "    \"\"\")\n",
    "except Exception as e:\n",
    "    dbutils.notebook.exit(f\"[ERROR - GOLD HIGH VALUE RATIO TEMP VIEW] {str(e)}\")"
   ]
  },
  {
   "cell_type": "code",
   "execution_count": 0,
   "metadata": {
    "application/vnd.databricks.v1+cell": {
     "cellMetadata": {
      "byteLimit": 2048000,
      "rowLimit": 10000
     },
     "inputWidgets": {},
     "nuid": "c5926832-fdd8-4ff4-a4cc-128e684d8dc2",
     "showTitle": false,
     "tableResultSettingsMap": {},
     "title": ""
    }
   },
   "outputs": [],
   "source": [
    "spark.sql(\n",
    "    \"\"\"\n",
    "    select * from gold_high_value_ratio\n",
    "    \"\"\"\n",
    ").display()"
   ]
  },
  {
   "cell_type": "code",
   "execution_count": 0,
   "metadata": {
    "application/vnd.databricks.v1+cell": {
     "cellMetadata": {
      "byteLimit": 2048000,
      "rowLimit": 10000
     },
     "inputWidgets": {},
     "nuid": "42d8fb02-356e-4826-9fb6-e4626255cce8",
     "showTitle": false,
     "tableResultSettingsMap": {},
     "title": ""
    }
   },
   "outputs": [],
   "source": [
    "try:\n",
    "    spark.sql(\n",
    "        \"\"\"\n",
    "            CREATE OR REPLACE TABLE gold_transactions.gold.high_value_ratio\n",
    "            USING DELTA \n",
    "            SELECT * FROM gold_high_value_ratio\n",
    "        \"\"\"\n",
    "    )\n",
    "except Exception as e:\n",
    "    dbutils.notebook.exit(f\"[ERROR - GOLD HIGH VALUE RATIO CREATE TABLE] {str(e)}\")"
   ]
  },
  {
   "cell_type": "markdown",
   "metadata": {
    "application/vnd.databricks.v1+cell": {
     "cellMetadata": {},
     "inputWidgets": {},
     "nuid": "410d2f22-cc79-40ed-8acd-734fd4ab07d9",
     "showTitle": false,
     "tableResultSettingsMap": {},
     "title": ""
    }
   },
   "source": [
    "### Unión final de todas las _métricas_"
   ]
  },
  {
   "cell_type": "code",
   "execution_count": 0,
   "metadata": {
    "application/vnd.databricks.v1+cell": {
     "cellMetadata": {
      "byteLimit": 2048000,
      "rowLimit": 10000
     },
     "inputWidgets": {},
     "nuid": "7546e850-6668-4951-9e77-9f5861cdd159",
     "showTitle": false,
     "tableResultSettingsMap": {},
     "title": ""
    }
   },
   "outputs": [],
   "source": [
    "try:\n",
    "    spark.sql(\"\"\"\n",
    "        CREATE OR REPLACE TEMP VIEW global_kpis AS\n",
    "        SELECT \n",
    "            a.country,\n",
    "            a.channel,\n",
    "            a.total_transactions,\n",
    "            b.total_amount,\n",
    "            b.avg_amount,\n",
    "            c.fraud_rate_percent,\n",
    "            d.high_value_ratio_percent\n",
    "        FROM gold_total_transactions a\n",
    "        JOIN gold_amounts b ON a.country = b.country AND a.channel = b.channel\n",
    "        JOIN gold_fraud_rate c ON a.country = c.country AND a.channel = c.channel\n",
    "        JOIN gold_high_value_ratio d ON a.country = d.country AND a.channel = d.channel\n",
    "    \"\"\")\n",
    "except Exception as e:\n",
    "    dbutils.notebook.exit(f\"[ERROR - GOLD GLOBAL KPIS TEMP VIEW] {str(e)}\")"
   ]
  },
  {
   "cell_type": "code",
   "execution_count": 0,
   "metadata": {
    "application/vnd.databricks.v1+cell": {
     "cellMetadata": {
      "byteLimit": 2048000,
      "rowLimit": 10000
     },
     "inputWidgets": {},
     "nuid": "bcafdfa3-6cdb-440e-836d-57cafb7f2a12",
     "showTitle": false,
     "tableResultSettingsMap": {},
     "title": ""
    }
   },
   "outputs": [],
   "source": [
    "spark.sql(\n",
    "    \"\"\"\n",
    "    select * from global_kpis\n",
    "    \"\"\"\n",
    ").display()"
   ]
  },
  {
   "cell_type": "markdown",
   "metadata": {
    "application/vnd.databricks.v1+cell": {
     "cellMetadata": {},
     "inputWidgets": {},
     "nuid": "a794048c-5ef7-4236-a9c0-690d9db99f1e",
     "showTitle": false,
     "tableResultSettingsMap": {},
     "title": ""
    }
   },
   "source": [
    "### Escribir como tabla Delta en Gold"
   ]
  },
  {
   "cell_type": "code",
   "execution_count": 0,
   "metadata": {
    "application/vnd.databricks.v1+cell": {
     "cellMetadata": {
      "byteLimit": 2048000,
      "rowLimit": 10000
     },
     "inputWidgets": {},
     "nuid": "1b115297-f2aa-47ab-b93d-4f6c406d5ff1",
     "showTitle": false,
     "tableResultSettingsMap": {},
     "title": ""
    }
   },
   "outputs": [],
   "source": [
    "try:\n",
    "    spark.conf.set(\n",
    "        f\"fs.azure.account.key.{storage_account_name}.dfs.core.windows.net\",\n",
    "        storage_account_key\n",
    "    )\n",
    "\n",
    "    storage_account_key = dbutils.secrets.get(\"scopeTransaction\", \"keyTransaction\")\n",
    "\n",
    "    spark.conf.set(\n",
    "        f\"fs.azure.account.key.{storage_account_name}.dfs.core.windows.net\",\n",
    "        storage_account_key\n",
    "    )\n",
    "except Exception as e:\n",
    "    dbutils.notebook.exit(f\"[ERROR - LAST SETS FS] {str(e)}\")\n",
    "\n"
   ]
  },
  {
   "cell_type": "code",
   "execution_count": 0,
   "metadata": {
    "application/vnd.databricks.v1+cell": {
     "cellMetadata": {
      "byteLimit": 2048000,
      "rowLimit": 10000
     },
     "inputWidgets": {},
     "nuid": "d550a250-0b2e-4fe7-87b5-6e623d7d40bf",
     "showTitle": false,
     "tableResultSettingsMap": {},
     "title": ""
    }
   },
   "outputs": [],
   "source": [
    "try:\n",
    "    spark.sql(\"USE CATALOG gold_transactions\")\n",
    "    spark.sql(\"CREATE SCHEMA IF NOT EXISTS gold\")\n",
    "\n",
    "    spark.sql(\"\"\"\n",
    "        CREATE OR REPLACE TABLE gold_transactions.gold.global_kpis\n",
    "        USING DELTA\n",
    "        AS SELECT * FROM global_kpis\n",
    "    \"\"\")\n",
    "except Exception as e:\n",
    "    dbutils.notebook.exit(f\"[ERROR - GOLD KPIS CREATE TABLE] {str(e)}\")\n",
    "\n",
    "try:\n",
    "# Guardo global_kpis en una variable df\n",
    "    global_kpis_df = spark.table(\"global_kpis\")\n",
    "    global_general_df = spark.table(\"gold_transactions.gold.transactions_general\")\n",
    "\n",
    "# Escribir en CSV\n",
    "    global_kpis_df.write.mode(\"overwrite\").csv(\"abfss://csvfinalsmartbank@mistorageprincipal.dfs.core.windows.net/final_csv_enriched_transactions_kpis/\", header=True)\n",
    "    global_general_df.write.mode(\"overwrite\").csv(\"abfss://csvfinalsmartbank@mistorageprincipal.dfs.core.windows.net/final_csv_general_transactions/\", header=True)\n",
    "\n",
    "except Exception as e:\n",
    "    dbutils.notebook.exit(f\"[ERROR - WRITE CSV] {str(e)}\")\n",
    "    \n",
    "dbutils.notebook.exit(\"OK\")\n"
   ]
  }
 ],
 "metadata": {
  "application/vnd.databricks.v1+notebook": {
   "computePreferences": null,
   "dashboards": [],
   "environmentMetadata": {
    "base_environment": "",
    "environment_version": "2"
   },
   "inputWidgetPreferences": null,
   "language": "python",
   "notebookMetadata": {
    "mostRecentlyExecutedCommandWithImplicitDF": {
     "commandId": 6043394023698142,
     "dataframes": [
      "_sqldf"
     ]
    },
    "pythonIndentUnit": 4
   },
   "notebookName": "goldTransactions",
   "widgets": {}
  },
  "language_info": {
   "name": "python"
  }
 },
 "nbformat": 4,
 "nbformat_minor": 0
}
