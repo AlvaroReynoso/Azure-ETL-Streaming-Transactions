{
 "cells": [
  {
   "cell_type": "markdown",
   "metadata": {
    "application/vnd.databricks.v1+cell": {
     "cellMetadata": {},
     "inputWidgets": {},
     "nuid": "a8338fc8-ea87-4ab8-bcf3-e2f451934ec5",
     "showTitle": false,
     "tableResultSettingsMap": {},
     "title": ""
    }
   },
   "source": [
    "%md\n",
    "## Capa Silver - Transformación y validación de transacciones\n",
    "\n",
    "En esta etapa del pipeline ETL, se realiza la **limpieza y enriquecimiento de las transacciones financieras** provenientes de la capa Bronze, manteniendo un flujo continuo mediante streaming estructurado.\n",
    "\n",
    "### Transformaciones aplicadas:\n",
    "- **Validaciones de calidad:**\n",
    "  - Transacciones con `amount > 0` y campos clave no nulos\n",
    "  - Eliminación de duplicados por `transaction_id`\n",
    "- **Conversión de timestamp:** \n",
    "  - Se transforma a tipo `timestamp` y se derivan campos de fecha/hora (`year`, `month`, `day`, `hour`)\n",
    "- **Estandarización de texto:**\n",
    "  - Campos como `country`, `channel`, `merchant`, `category` se convierten a minúsculas\n",
    "- **Flag de sospecha de fraude:**\n",
    "  - Se marca una transacción como `is_fraud_suspected = True` si es en `ATM` y supera los $10,000\n",
    "- **Clasificación del monto:**\n",
    "  - Se categorizan las transacciones como `low`, `medium` o `high` según el valor\n",
    "\n",
    "###  Resultado:\n",
    "Se genera una tabla Delta estructurada en schema: silver_transactions"
   ]
  },
  {
   "cell_type": "code",
   "execution_count": 0,
   "metadata": {
    "application/vnd.databricks.v1+cell": {
     "cellMetadata": {
      "byteLimit": 2048000,
      "rowLimit": 10000
     },
     "inputWidgets": {},
     "nuid": "b266d09e-a60c-4902-942a-38f512a06d25",
     "showTitle": true,
     "tableResultSettingsMap": {},
     "title": "Spark SQL Functions Import and Configuration"
    }
   },
   "outputs": [],
   "source": [
    "# DBTITLE 1: Imports y configuración\n",
    "from pyspark.sql.functions import (\n",
    "    col, to_timestamp, year, month, dayofmonth, hour, when, lit, lower\n",
    ")"
   ]
  },
  {
   "cell_type": "code",
   "execution_count": 0,
   "metadata": {
    "application/vnd.databricks.v1+cell": {
     "cellMetadata": {
      "byteLimit": 2048000,
      "rowLimit": 10000
     },
     "inputWidgets": {},
     "nuid": "6f4c5b55-a73a-46a4-a7fc-820b539307af",
     "showTitle": true,
     "tableResultSettingsMap": {},
     "title": "Define Paths and Table Name for Transactions"
    }
   },
   "outputs": [],
   "source": [
    "\n",
    "# Rutas\n",
    "bronze_path = \"abfss://bronzesmartbank@mistorageprincipal.dfs.core.windows.net/transactions_eventhub/\"\n",
    "silver_path = \"abfss://silversmartbank@mistorageprincipal.dfs.core.windows.net/transactions_silver/\"\n",
    "\n",
    "table_name = \"silver_transactions_table\""
   ]
  },
  {
   "cell_type": "code",
   "execution_count": 0,
   "metadata": {
    "application/vnd.databricks.v1+cell": {
     "cellMetadata": {
      "byteLimit": 2048000,
      "rowLimit": 10000
     },
     "inputWidgets": {},
     "nuid": "28093735-7ce7-4d77-b620-3e217ed11bc3",
     "showTitle": false,
     "tableResultSettingsMap": {},
     "title": ""
    }
   },
   "outputs": [],
   "source": [
    "\n",
    "try:\n",
    "# Crear schema\n",
    "    spark.sql(f\"CREATE SCHEMA IF NOT EXISTS silver\")\n",
    "    spark.sql(f\"CREATE TABLE IF NOT EXISTS silver_transactions_table (transaction_id STRING, customer_id STRING, amount DOUBLE, timestamp TIMESTAMP, country STRING, channel STRING, category STRING, merchant STRING, is_fraud_suspected STRING, amount_level STRING)\")\n",
    "except Exception as e:\n",
    "    dbutils.notebook.exit(f\"[ERROR - SILVER INIT] {str(e)}\")\n",
    "\n",
    "try:   \n",
    "# DBTITLE 1: Leer desde Bronze\n",
    "    bronze_df = (\n",
    "        spark.readStream\n",
    "        .format(\"delta\")\n",
    "        .load(bronze_path)\n",
    "    )\n",
    "except Exception as e:\n",
    "    dbutils.notebook.exit(f\"[ERROR - SILVER READ] {str(e)}\")\n",
    "\n",
    "# Transformaciones en Silver\n",
    "try:\n",
    "    silver_df = (\n",
    "        bronze_df\n",
    "        # Validaciones básicas\n",
    "        .filter(col(\"amount\").isNotNull() & (col(\"amount\") > 0))\n",
    "        .filter(col(\"transaction_id\").isNotNull() & col(\"customer_id\").isNotNull())\n",
    "    \n",
    "        # Conversión de timestamp\n",
    "        .withColumn(\"timestamp\", to_timestamp(\"timestamp\"))\n",
    "    \n",
    "        # Derivar campos de fecha/hora\n",
    "        .withColumn(\"year\", year(\"timestamp\"))\n",
    "        .withColumn(\"month\", month(\"timestamp\"))\n",
    "        .withColumn(\"day\", dayofmonth(\"timestamp\"))\n",
    "        .withColumn(\"hour\", hour(\"timestamp\"))\n",
    "    \n",
    "        # Enriquecimiento: normalizar texto\n",
    "        .withColumn(\"country\", lower(col(\"country\")))\n",
    "        .withColumn(\"channel\", lower(col(\"channel\")))\n",
    "        .withColumn(\"category\", lower(col(\"category\")))\n",
    "        .withColumn(\"merchant\", lower(col(\"merchant\")))\n",
    "    \n",
    "        # Detección de posibles fraudes\n",
    "        .withColumn(\"is_fraud_suspected\", when((col(\"channel\") == \"atm\") & (col(\"amount\") > 10000), lit(True)).otherwise(lit(False)))\n",
    "    \n",
    "        # Categoría de monto\n",
    "        .withColumn(\"amount_level\", when(col(\"amount\") >= 10000, \"high\")\n",
    "                                .when(col(\"amount\") >= 1000, \"medium\")\n",
    "                                .otherwise(\"low\"))\n",
    "    \n",
    "        # Remover duplicados por transaction_id si llega a pasar\n",
    "        .dropDuplicates([\"transaction_id\"])\n",
    "    )\n",
    "except Exception as e:\n",
    "    dbutils.notebook.exit(f\"[ERROR- SILVER TRANSFORM] {str(e)}\")\n",
    "# DBTITLE 1: Escritura continua a Silver (Delta Table gestionada)\n",
    "try:\n",
    "    (\n",
    "        silver_df.writeStream\n",
    "        .format(\"delta\")\n",
    "        .outputMode(\"append\")\n",
    "        .option(\"checkpointLocation\", silver_path + \"/_checkpoint\")\n",
    "        .trigger(once=True)\n",
    "        .toTable(f\"silver_transactions.silver.{table_name}\")\n",
    "        .awaitTermination()\n",
    "    )\n",
    "except Exception as e:\n",
    "    dbutils.notebook.exit(f\"[ERROR - SILVER WRITE] {str(e)}\")\n",
    "\n",
    "dbutils.notebook.exit(\"OK\")\n",
    "\n",
    "\n"
   ]
  },
  {
   "cell_type": "code",
   "execution_count": 0,
   "metadata": {
    "application/vnd.databricks.v1+cell": {
     "cellMetadata": {
      "byteLimit": 2048000,
      "rowLimit": 10000
     },
     "inputWidgets": {},
     "nuid": "c6a9a652-ef3b-492f-b7ce-c2d4995775ec",
     "showTitle": false,
     "tableResultSettingsMap": {},
     "title": ""
    }
   },
   "outputs": [],
   "source": [
    "spark.sql(\n",
    "    \"\"\"\n",
    "        SELECT * FROM silver_transactions.silver.silver_transactions_table\n",
    "    \"\"\"\n",
    ").display()"
   ]
  },
  {
   "cell_type": "code",
   "execution_count": 0,
   "metadata": {
    "application/vnd.databricks.v1+cell": {
     "cellMetadata": {
      "byteLimit": 2048000,
      "rowLimit": 10000
     },
     "inputWidgets": {},
     "nuid": "183995dc-a637-46f1-a64e-f17d32f56493",
     "showTitle": false,
     "tableResultSettingsMap": {},
     "title": ""
    }
   },
   "outputs": [],
   "source": [
    "spark.sql(\n",
    "    \"\"\"\n",
    "    DESCRIBE HISTORY silver_transactions.silver.silver_transactions_table\n",
    "    \"\"\"\n",
    ").display()"
   ]
  }
 ],
 "metadata": {
  "application/vnd.databricks.v1+notebook": {
   "computePreferences": null,
   "dashboards": [],
   "environmentMetadata": {
    "base_environment": "",
    "environment_version": "2"
   },
   "inputWidgetPreferences": null,
   "language": "python",
   "notebookMetadata": {
    "pythonIndentUnit": 4
   },
   "notebookName": "silverTransactions",
   "widgets": {}
  },
  "language_info": {
   "name": "python"
  }
 },
 "nbformat": 4,
 "nbformat_minor": 0
}
